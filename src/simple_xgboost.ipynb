{
 "cells": [
  {
   "cell_type": "markdown",
   "metadata": {},
   "source": [
    "### Load libraries"
   ]
  },
  {
   "cell_type": "code",
   "execution_count": 1,
   "metadata": {},
   "outputs": [
    {
     "name": "stderr",
     "output_type": "stream",
     "text": [
      "Loading required package: lattice\n",
      "Loading required package: ggplot2\n"
     ]
    }
   ],
   "source": [
    "library(xgboost)\n",
    "library(data.table)\n",
    "library(Metrics)\n",
    "library(caret)"
   ]
  },
  {
   "cell_type": "markdown",
   "metadata": {},
   "source": [
    "### Load Data\n",
    "To simplify, let's read only `train.csv`"
   ]
  },
  {
   "cell_type": "code",
   "execution_count": 2,
   "metadata": {},
   "outputs": [
    {
     "name": "stdout",
     "output_type": "stream",
     "text": [
      "\r",
      "Read 26.6% of 188318 rows\r",
      "Read 188318 rows and 132 (of 132) columns from 0.065 GB file in 00:00:03\n"
     ]
    }
   ],
   "source": [
    "train = fread(\"../input/train.csv\", showProgress = TRUE)"
   ]
  },
  {
   "cell_type": "markdown",
   "metadata": {},
   "source": [
    "Quick overview what is inside"
   ]
  },
  {
   "cell_type": "code",
   "execution_count": 3,
   "metadata": {},
   "outputs": [
    {
     "name": "stdout",
     "output_type": "stream",
     "text": [
      "Classes ‘data.table’ and 'data.frame':\t188318 obs. of  132 variables:\n",
      " $ id    : int  1 2 5 10 11 13 14 20 23 24 ...\n",
      " $ cat1  : chr  \"A\" \"A\" \"A\" \"B\" ...\n",
      " $ cat2  : chr  \"B\" \"B\" \"B\" \"B\" ...\n",
      " $ cat3  : chr  \"A\" \"A\" \"A\" \"A\" ...\n",
      " $ cat4  : chr  \"B\" \"A\" \"A\" \"B\" ...\n",
      " $ cat5  : chr  \"A\" \"A\" \"B\" \"A\" ...\n",
      " $ cat6  : chr  \"A\" \"A\" \"A\" \"A\" ...\n",
      " $ cat7  : chr  \"A\" \"A\" \"A\" \"A\" ...\n",
      " $ cat8  : chr  \"A\" \"A\" \"A\" \"A\" ...\n",
      " $ cat9  : chr  \"B\" \"B\" \"B\" \"B\" ...\n",
      " $ cat10 : chr  \"A\" \"B\" \"B\" \"A\" ...\n",
      " $ cat11 : chr  \"B\" \"A\" \"B\" \"A\" ...\n",
      " $ cat12 : chr  \"A\" \"A\" \"B\" \"A\" ...\n",
      " $ cat13 : chr  \"A\" \"A\" \"B\" \"A\" ...\n",
      " $ cat14 : chr  \"A\" \"A\" \"A\" \"A\" ...\n",
      " $ cat15 : chr  \"A\" \"A\" \"A\" \"A\" ...\n",
      " $ cat16 : chr  \"A\" \"A\" \"A\" \"A\" ...\n",
      " $ cat17 : chr  \"A\" \"A\" \"A\" \"A\" ...\n",
      " $ cat18 : chr  \"A\" \"A\" \"A\" \"A\" ...\n",
      " $ cat19 : chr  \"A\" \"A\" \"A\" \"A\" ...\n",
      " $ cat20 : chr  \"A\" \"A\" \"A\" \"A\" ...\n",
      " $ cat21 : chr  \"A\" \"A\" \"A\" \"A\" ...\n",
      " $ cat22 : chr  \"A\" \"A\" \"A\" \"A\" ...\n",
      " $ cat23 : chr  \"B\" \"A\" \"A\" \"B\" ...\n",
      " $ cat24 : chr  \"A\" \"A\" \"A\" \"A\" ...\n",
      " $ cat25 : chr  \"A\" \"A\" \"A\" \"A\" ...\n",
      " $ cat26 : chr  \"A\" \"A\" \"A\" \"A\" ...\n",
      " $ cat27 : chr  \"A\" \"A\" \"A\" \"A\" ...\n",
      " $ cat28 : chr  \"A\" \"A\" \"A\" \"A\" ...\n",
      " $ cat29 : chr  \"A\" \"A\" \"A\" \"A\" ...\n",
      " $ cat30 : chr  \"A\" \"A\" \"A\" \"A\" ...\n",
      " $ cat31 : chr  \"A\" \"A\" \"A\" \"A\" ...\n",
      " $ cat32 : chr  \"A\" \"A\" \"A\" \"A\" ...\n",
      " $ cat33 : chr  \"A\" \"A\" \"A\" \"A\" ...\n",
      " $ cat34 : chr  \"A\" \"A\" \"A\" \"A\" ...\n",
      " $ cat35 : chr  \"A\" \"A\" \"A\" \"A\" ...\n",
      " $ cat36 : chr  \"A\" \"A\" \"B\" \"A\" ...\n",
      " $ cat37 : chr  \"A\" \"A\" \"A\" \"A\" ...\n",
      " $ cat38 : chr  \"A\" \"A\" \"A\" \"A\" ...\n",
      " $ cat39 : chr  \"A\" \"A\" \"A\" \"A\" ...\n",
      " $ cat40 : chr  \"A\" \"A\" \"A\" \"A\" ...\n",
      " $ cat41 : chr  \"A\" \"A\" \"A\" \"A\" ...\n",
      " $ cat42 : chr  \"A\" \"A\" \"A\" \"A\" ...\n",
      " $ cat43 : chr  \"A\" \"A\" \"A\" \"A\" ...\n",
      " $ cat44 : chr  \"A\" \"A\" \"A\" \"A\" ...\n",
      " $ cat45 : chr  \"A\" \"A\" \"A\" \"A\" ...\n",
      " $ cat46 : chr  \"A\" \"A\" \"A\" \"A\" ...\n",
      " $ cat47 : chr  \"A\" \"A\" \"A\" \"A\" ...\n",
      " $ cat48 : chr  \"A\" \"A\" \"A\" \"A\" ...\n",
      " $ cat49 : chr  \"A\" \"A\" \"A\" \"A\" ...\n",
      " $ cat50 : chr  \"A\" \"A\" \"A\" \"A\" ...\n",
      " $ cat51 : chr  \"A\" \"A\" \"A\" \"A\" ...\n",
      " $ cat52 : chr  \"A\" \"A\" \"A\" \"A\" ...\n",
      " $ cat53 : chr  \"A\" \"A\" \"A\" \"A\" ...\n",
      " $ cat54 : chr  \"A\" \"A\" \"A\" \"A\" ...\n",
      " $ cat55 : chr  \"A\" \"A\" \"A\" \"A\" ...\n",
      " $ cat56 : chr  \"A\" \"A\" \"A\" \"A\" ...\n",
      " $ cat57 : chr  \"A\" \"A\" \"A\" \"A\" ...\n",
      " $ cat58 : chr  \"A\" \"A\" \"A\" \"A\" ...\n",
      " $ cat59 : chr  \"A\" \"A\" \"A\" \"A\" ...\n",
      " $ cat60 : chr  \"A\" \"A\" \"A\" \"A\" ...\n",
      " $ cat61 : chr  \"A\" \"A\" \"A\" \"A\" ...\n",
      " $ cat62 : chr  \"A\" \"A\" \"A\" \"A\" ...\n",
      " $ cat63 : chr  \"A\" \"A\" \"A\" \"A\" ...\n",
      " $ cat64 : chr  \"A\" \"A\" \"A\" \"A\" ...\n",
      " $ cat65 : chr  \"A\" \"A\" \"A\" \"A\" ...\n",
      " $ cat66 : chr  \"A\" \"A\" \"A\" \"A\" ...\n",
      " $ cat67 : chr  \"A\" \"A\" \"A\" \"A\" ...\n",
      " $ cat68 : chr  \"A\" \"A\" \"A\" \"A\" ...\n",
      " $ cat69 : chr  \"A\" \"A\" \"A\" \"A\" ...\n",
      " $ cat70 : chr  \"A\" \"A\" \"A\" \"A\" ...\n",
      " $ cat71 : chr  \"A\" \"A\" \"A\" \"A\" ...\n",
      " $ cat72 : chr  \"A\" \"A\" \"A\" \"A\" ...\n",
      " $ cat73 : chr  \"A\" \"A\" \"A\" \"B\" ...\n",
      " $ cat74 : chr  \"A\" \"A\" \"A\" \"A\" ...\n",
      " $ cat75 : chr  \"B\" \"A\" \"A\" \"A\" ...\n",
      " $ cat76 : chr  \"A\" \"A\" \"A\" \"A\" ...\n",
      " $ cat77 : chr  \"D\" \"D\" \"D\" \"D\" ...\n",
      " $ cat78 : chr  \"B\" \"B\" \"B\" \"B\" ...\n",
      " $ cat79 : chr  \"B\" \"B\" \"B\" \"B\" ...\n",
      " $ cat80 : chr  \"D\" \"D\" \"B\" \"D\" ...\n",
      " $ cat81 : chr  \"D\" \"D\" \"D\" \"D\" ...\n",
      " $ cat82 : chr  \"B\" \"A\" \"B\" \"D\" ...\n",
      " $ cat83 : chr  \"D\" \"B\" \"D\" \"B\" ...\n",
      " $ cat84 : chr  \"C\" \"C\" \"C\" \"C\" ...\n",
      " $ cat85 : chr  \"B\" \"B\" \"B\" \"B\" ...\n",
      " $ cat86 : chr  \"D\" \"D\" \"B\" \"D\" ...\n",
      " $ cat87 : chr  \"B\" \"B\" \"B\" \"B\" ...\n",
      " $ cat88 : chr  \"A\" \"A\" \"A\" \"A\" ...\n",
      " $ cat89 : chr  \"A\" \"A\" \"A\" \"A\" ...\n",
      " $ cat90 : chr  \"A\" \"A\" \"A\" \"A\" ...\n",
      " $ cat91 : chr  \"A\" \"A\" \"A\" \"A\" ...\n",
      " $ cat92 : chr  \"A\" \"A\" \"A\" \"A\" ...\n",
      " $ cat93 : chr  \"D\" \"D\" \"D\" \"D\" ...\n",
      " $ cat94 : chr  \"B\" \"D\" \"D\" \"D\" ...\n",
      " $ cat95 : chr  \"C\" \"C\" \"C\" \"C\" ...\n",
      " $ cat96 : chr  \"E\" \"E\" \"E\" \"E\" ...\n",
      " $ cat97 : chr  \"A\" \"E\" \"E\" \"E\" ...\n",
      " $ cat98 : chr  \"C\" \"D\" \"A\" \"D\" ...\n",
      "  [list output truncated]\n",
      " - attr(*, \".internal.selfref\")=<externalptr> \n"
     ]
    }
   ],
   "source": [
    "str(train)"
   ]
  },
  {
   "cell_type": "code",
   "execution_count": 4,
   "metadata": {},
   "outputs": [
    {
     "data": {
      "text/plain": [
       "       id             cat1               cat2               cat3          \n",
       " Min.   :     1   Length:188318      Length:188318      Length:188318     \n",
       " 1st Qu.:147748   Class :character   Class :character   Class :character  \n",
       " Median :294540   Mode  :character   Mode  :character   Mode  :character  \n",
       " Mean   :294136                                                           \n",
       " 3rd Qu.:440680                                                           \n",
       " Max.   :587633                                                           \n",
       "     cat4               cat5               cat6               cat7          \n",
       " Length:188318      Length:188318      Length:188318      Length:188318     \n",
       " Class :character   Class :character   Class :character   Class :character  \n",
       " Mode  :character   Mode  :character   Mode  :character   Mode  :character  \n",
       "                                                                            \n",
       "                                                                            \n",
       "                                                                            \n",
       "     cat8               cat9              cat10              cat11          \n",
       " Length:188318      Length:188318      Length:188318      Length:188318     \n",
       " Class :character   Class :character   Class :character   Class :character  \n",
       " Mode  :character   Mode  :character   Mode  :character   Mode  :character  \n",
       "                                                                            \n",
       "                                                                            \n",
       "                                                                            \n",
       "    cat12              cat13              cat14              cat15          \n",
       " Length:188318      Length:188318      Length:188318      Length:188318     \n",
       " Class :character   Class :character   Class :character   Class :character  \n",
       " Mode  :character   Mode  :character   Mode  :character   Mode  :character  \n",
       "                                                                            \n",
       "                                                                            \n",
       "                                                                            \n",
       "    cat16              cat17              cat18              cat19          \n",
       " Length:188318      Length:188318      Length:188318      Length:188318     \n",
       " Class :character   Class :character   Class :character   Class :character  \n",
       " Mode  :character   Mode  :character   Mode  :character   Mode  :character  \n",
       "                                                                            \n",
       "                                                                            \n",
       "                                                                            \n",
       "    cat20              cat21              cat22              cat23          \n",
       " Length:188318      Length:188318      Length:188318      Length:188318     \n",
       " Class :character   Class :character   Class :character   Class :character  \n",
       " Mode  :character   Mode  :character   Mode  :character   Mode  :character  \n",
       "                                                                            \n",
       "                                                                            \n",
       "                                                                            \n",
       "    cat24              cat25              cat26              cat27          \n",
       " Length:188318      Length:188318      Length:188318      Length:188318     \n",
       " Class :character   Class :character   Class :character   Class :character  \n",
       " Mode  :character   Mode  :character   Mode  :character   Mode  :character  \n",
       "                                                                            \n",
       "                                                                            \n",
       "                                                                            \n",
       "    cat28              cat29              cat30              cat31          \n",
       " Length:188318      Length:188318      Length:188318      Length:188318     \n",
       " Class :character   Class :character   Class :character   Class :character  \n",
       " Mode  :character   Mode  :character   Mode  :character   Mode  :character  \n",
       "                                                                            \n",
       "                                                                            \n",
       "                                                                            \n",
       "    cat32              cat33              cat34              cat35          \n",
       " Length:188318      Length:188318      Length:188318      Length:188318     \n",
       " Class :character   Class :character   Class :character   Class :character  \n",
       " Mode  :character   Mode  :character   Mode  :character   Mode  :character  \n",
       "                                                                            \n",
       "                                                                            \n",
       "                                                                            \n",
       "    cat36              cat37              cat38              cat39          \n",
       " Length:188318      Length:188318      Length:188318      Length:188318     \n",
       " Class :character   Class :character   Class :character   Class :character  \n",
       " Mode  :character   Mode  :character   Mode  :character   Mode  :character  \n",
       "                                                                            \n",
       "                                                                            \n",
       "                                                                            \n",
       "    cat40              cat41              cat42              cat43          \n",
       " Length:188318      Length:188318      Length:188318      Length:188318     \n",
       " Class :character   Class :character   Class :character   Class :character  \n",
       " Mode  :character   Mode  :character   Mode  :character   Mode  :character  \n",
       "                                                                            \n",
       "                                                                            \n",
       "                                                                            \n",
       "    cat44              cat45              cat46              cat47          \n",
       " Length:188318      Length:188318      Length:188318      Length:188318     \n",
       " Class :character   Class :character   Class :character   Class :character  \n",
       " Mode  :character   Mode  :character   Mode  :character   Mode  :character  \n",
       "                                                                            \n",
       "                                                                            \n",
       "                                                                            \n",
       "    cat48              cat49              cat50              cat51          \n",
       " Length:188318      Length:188318      Length:188318      Length:188318     \n",
       " Class :character   Class :character   Class :character   Class :character  \n",
       " Mode  :character   Mode  :character   Mode  :character   Mode  :character  \n",
       "                                                                            \n",
       "                                                                            \n",
       "                                                                            \n",
       "    cat52              cat53              cat54              cat55          \n",
       " Length:188318      Length:188318      Length:188318      Length:188318     \n",
       " Class :character   Class :character   Class :character   Class :character  \n",
       " Mode  :character   Mode  :character   Mode  :character   Mode  :character  \n",
       "                                                                            \n",
       "                                                                            \n",
       "                                                                            \n",
       "    cat56              cat57              cat58              cat59          \n",
       " Length:188318      Length:188318      Length:188318      Length:188318     \n",
       " Class :character   Class :character   Class :character   Class :character  \n",
       " Mode  :character   Mode  :character   Mode  :character   Mode  :character  \n",
       "                                                                            \n",
       "                                                                            \n",
       "                                                                            \n",
       "    cat60              cat61              cat62              cat63          \n",
       " Length:188318      Length:188318      Length:188318      Length:188318     \n",
       " Class :character   Class :character   Class :character   Class :character  \n",
       " Mode  :character   Mode  :character   Mode  :character   Mode  :character  \n",
       "                                                                            \n",
       "                                                                            \n",
       "                                                                            \n",
       "    cat64              cat65              cat66              cat67          \n",
       " Length:188318      Length:188318      Length:188318      Length:188318     \n",
       " Class :character   Class :character   Class :character   Class :character  \n",
       " Mode  :character   Mode  :character   Mode  :character   Mode  :character  \n",
       "                                                                            \n",
       "                                                                            \n",
       "                                                                            \n",
       "    cat68              cat69              cat70              cat71          \n",
       " Length:188318      Length:188318      Length:188318      Length:188318     \n",
       " Class :character   Class :character   Class :character   Class :character  \n",
       " Mode  :character   Mode  :character   Mode  :character   Mode  :character  \n",
       "                                                                            \n",
       "                                                                            \n",
       "                                                                            \n",
       "    cat72              cat73              cat74              cat75          \n",
       " Length:188318      Length:188318      Length:188318      Length:188318     \n",
       " Class :character   Class :character   Class :character   Class :character  \n",
       " Mode  :character   Mode  :character   Mode  :character   Mode  :character  \n",
       "                                                                            \n",
       "                                                                            \n",
       "                                                                            \n",
       "    cat76              cat77              cat78              cat79          \n",
       " Length:188318      Length:188318      Length:188318      Length:188318     \n",
       " Class :character   Class :character   Class :character   Class :character  \n",
       " Mode  :character   Mode  :character   Mode  :character   Mode  :character  \n",
       "                                                                            \n",
       "                                                                            \n",
       "                                                                            \n",
       "    cat80              cat81              cat82              cat83          \n",
       " Length:188318      Length:188318      Length:188318      Length:188318     \n",
       " Class :character   Class :character   Class :character   Class :character  \n",
       " Mode  :character   Mode  :character   Mode  :character   Mode  :character  \n",
       "                                                                            \n",
       "                                                                            \n",
       "                                                                            \n",
       "    cat84              cat85              cat86              cat87          \n",
       " Length:188318      Length:188318      Length:188318      Length:188318     \n",
       " Class :character   Class :character   Class :character   Class :character  \n",
       " Mode  :character   Mode  :character   Mode  :character   Mode  :character  \n",
       "                                                                            \n",
       "                                                                            \n",
       "                                                                            \n",
       "    cat88              cat89              cat90              cat91          \n",
       " Length:188318      Length:188318      Length:188318      Length:188318     \n",
       " Class :character   Class :character   Class :character   Class :character  \n",
       " Mode  :character   Mode  :character   Mode  :character   Mode  :character  \n",
       "                                                                            \n",
       "                                                                            \n",
       "                                                                            \n",
       "    cat92              cat93              cat94              cat95          \n",
       " Length:188318      Length:188318      Length:188318      Length:188318     \n",
       " Class :character   Class :character   Class :character   Class :character  \n",
       " Mode  :character   Mode  :character   Mode  :character   Mode  :character  \n",
       "                                                                            \n",
       "                                                                            \n",
       "                                                                            \n",
       "    cat96              cat97              cat98              cat99          \n",
       " Length:188318      Length:188318      Length:188318      Length:188318     \n",
       " Class :character   Class :character   Class :character   Class :character  \n",
       " Mode  :character   Mode  :character   Mode  :character   Mode  :character  \n",
       "                                                                            \n",
       "                                                                            \n",
       "                                                                            \n",
       "    cat100             cat101             cat102             cat103         \n",
       " Length:188318      Length:188318      Length:188318      Length:188318     \n",
       " Class :character   Class :character   Class :character   Class :character  \n",
       " Mode  :character   Mode  :character   Mode  :character   Mode  :character  \n",
       "                                                                            \n",
       "                                                                            \n",
       "                                                                            \n",
       "    cat104             cat105             cat106             cat107         \n",
       " Length:188318      Length:188318      Length:188318      Length:188318     \n",
       " Class :character   Class :character   Class :character   Class :character  \n",
       " Mode  :character   Mode  :character   Mode  :character   Mode  :character  \n",
       "                                                                            \n",
       "                                                                            \n",
       "                                                                            \n",
       "    cat108             cat109             cat110             cat111         \n",
       " Length:188318      Length:188318      Length:188318      Length:188318     \n",
       " Class :character   Class :character   Class :character   Class :character  \n",
       " Mode  :character   Mode  :character   Mode  :character   Mode  :character  \n",
       "                                                                            \n",
       "                                                                            \n",
       "                                                                            \n",
       "    cat112             cat113             cat114             cat115         \n",
       " Length:188318      Length:188318      Length:188318      Length:188318     \n",
       " Class :character   Class :character   Class :character   Class :character  \n",
       " Mode  :character   Mode  :character   Mode  :character   Mode  :character  \n",
       "                                                                            \n",
       "                                                                            \n",
       "                                                                            \n",
       "    cat116              cont1              cont2              cont3         \n",
       " Length:188318      Min.   :0.000016   Min.   :0.001149   Min.   :0.002634  \n",
       " Class :character   1st Qu.:0.346090   1st Qu.:0.358319   1st Qu.:0.336963  \n",
       " Mode  :character   Median :0.475784   Median :0.555782   Median :0.527991  \n",
       "                    Mean   :0.493861   Mean   :0.507188   Mean   :0.498918  \n",
       "                    3rd Qu.:0.623912   3rd Qu.:0.681761   3rd Qu.:0.634224  \n",
       "                    Max.   :0.984975   Max.   :0.862654   Max.   :0.944251  \n",
       "     cont4            cont5            cont6             cont7       \n",
       " Min.   :0.1769   Min.   :0.2811   Min.   :0.01268   Min.   :0.0695  \n",
       " 1st Qu.:0.3274   1st Qu.:0.2811   1st Qu.:0.33610   1st Qu.:0.3502  \n",
       " Median :0.4529   Median :0.4223   Median :0.44094   Median :0.4383  \n",
       " Mean   :0.4918   Mean   :0.4874   Mean   :0.49094   Mean   :0.4850  \n",
       " 3rd Qu.:0.6521   3rd Qu.:0.6433   3rd Qu.:0.65502   3rd Qu.:0.5910  \n",
       " Max.   :0.9543   Max.   :0.9837   Max.   :0.99716   Max.   :1.0000  \n",
       "     cont8            cont9             cont10           cont11       \n",
       " Min.   :0.2369   Min.   :0.00008   Min.   :0.0000   Min.   :0.03532  \n",
       " 1st Qu.:0.3128   1st Qu.:0.35897   1st Qu.:0.3646   1st Qu.:0.31096  \n",
       " Median :0.4411   Median :0.44145   Median :0.4612   Median :0.45720  \n",
       " Mean   :0.4864   Mean   :0.48551   Mean   :0.4981   Mean   :0.49351  \n",
       " 3rd Qu.:0.6236   3rd Qu.:0.56682   3rd Qu.:0.6146   3rd Qu.:0.67892  \n",
       " Max.   :0.9802   Max.   :0.99540   Max.   :0.9950   Max.   :0.99874  \n",
       "     cont12            cont13             cont14            loss          \n",
       " Min.   :0.03623   Min.   :0.000228   Min.   :0.1797   Min.   :     0.67  \n",
       " 1st Qu.:0.31166   1st Qu.:0.315758   1st Qu.:0.2946   1st Qu.:  1204.46  \n",
       " Median :0.46229   Median :0.363547   Median :0.4074   Median :  2115.57  \n",
       " Mean   :0.49315   Mean   :0.493138   Mean   :0.4957   Mean   :  3037.34  \n",
       " 3rd Qu.:0.67576   3rd Qu.:0.689974   3rd Qu.:0.7246   3rd Qu.:  3864.05  \n",
       " Max.   :0.99848   Max.   :0.988494   Max.   :0.8448   Max.   :121012.25  "
      ]
     },
     "metadata": {},
     "output_type": "display_data"
    }
   ],
   "source": [
    "summary(train)"
   ]
  },
  {
   "cell_type": "code",
   "execution_count": 5,
   "metadata": {},
   "outputs": [
    {
     "data": {
      "text/html": [
       "<table>\n",
       "<thead><tr><th scope=col>id</th><th scope=col>cat1</th><th scope=col>cat2</th><th scope=col>cat3</th><th scope=col>cat4</th><th scope=col>cat5</th><th scope=col>cat6</th><th scope=col>cat7</th><th scope=col>cat8</th><th scope=col>cat9</th><th scope=col>⋯</th><th scope=col>cont6</th><th scope=col>cont7</th><th scope=col>cont8</th><th scope=col>cont9</th><th scope=col>cont10</th><th scope=col>cont11</th><th scope=col>cont12</th><th scope=col>cont13</th><th scope=col>cont14</th><th scope=col>loss</th></tr></thead>\n",
       "<tbody>\n",
       "\t<tr><td> 1      </td><td>A       </td><td>B       </td><td>A       </td><td>B       </td><td>A       </td><td>A       </td><td>A       </td><td>A       </td><td>B       </td><td>⋯       </td><td>0.718367</td><td>0.335060</td><td>0.30260 </td><td>0.67135 </td><td>0.83510 </td><td>0.569745</td><td>0.594646</td><td>0.822493</td><td>0.714843</td><td>2213.18 </td></tr>\n",
       "\t<tr><td> 2      </td><td>A       </td><td>B       </td><td>A       </td><td>A       </td><td>A       </td><td>A       </td><td>A       </td><td>A       </td><td>B       </td><td>⋯       </td><td>0.438917</td><td>0.436585</td><td>0.60087 </td><td>0.35127 </td><td>0.43919 </td><td>0.338312</td><td>0.366307</td><td>0.611431</td><td>0.304496</td><td>1283.60 </td></tr>\n",
       "\t<tr><td> 5      </td><td>A       </td><td>B       </td><td>A       </td><td>A       </td><td>B       </td><td>A       </td><td>A       </td><td>A       </td><td>B       </td><td>⋯       </td><td>0.289648</td><td>0.315545</td><td>0.27320 </td><td>0.26076 </td><td>0.32446 </td><td>0.381398</td><td>0.373424</td><td>0.195709</td><td>0.774425</td><td>3005.09 </td></tr>\n",
       "\t<tr><td>10      </td><td>B       </td><td>B       </td><td>A       </td><td>B       </td><td>A       </td><td>A       </td><td>A       </td><td>A       </td><td>B       </td><td>⋯       </td><td>0.440945</td><td>0.391128</td><td>0.31796 </td><td>0.32128 </td><td>0.44467 </td><td>0.327915</td><td>0.321570</td><td>0.605077</td><td>0.602642</td><td> 939.85 </td></tr>\n",
       "\t<tr><td>11      </td><td>A       </td><td>B       </td><td>A       </td><td>B       </td><td>A       </td><td>A       </td><td>A       </td><td>A       </td><td>B       </td><td>⋯       </td><td>0.178193</td><td>0.247408</td><td>0.24564 </td><td>0.22089 </td><td>0.21230 </td><td>0.204687</td><td>0.202213</td><td>0.246011</td><td>0.432606</td><td>2763.85 </td></tr>\n",
       "\t<tr><td>13      </td><td>A       </td><td>B       </td><td>A       </td><td>A       </td><td>A       </td><td>A       </td><td>A       </td><td>A       </td><td>B       </td><td>⋯       </td><td>0.364464</td><td>0.401162</td><td>0.26847 </td><td>0.46226 </td><td>0.50556 </td><td>0.366788</td><td>0.359249</td><td>0.345247</td><td>0.726792</td><td>5142.87 </td></tr>\n",
       "</tbody>\n",
       "</table>\n"
      ],
      "text/latex": [
       "\\begin{tabular}{r|llllllllllllllllllllllllllllllllllllllllllllllllllllllllllllllllllllllllllllllllllllllllllllllllllllllllllllllllllllllllllllllllllll}\n",
       " id & cat1 & cat2 & cat3 & cat4 & cat5 & cat6 & cat7 & cat8 & cat9 & ⋯ & cont6 & cont7 & cont8 & cont9 & cont10 & cont11 & cont12 & cont13 & cont14 & loss\\\\\n",
       "\\hline\n",
       "\t  1       & A        & B        & A        & B        & A        & A        & A        & A        & B        & ⋯        & 0.718367 & 0.335060 & 0.30260  & 0.67135  & 0.83510  & 0.569745 & 0.594646 & 0.822493 & 0.714843 & 2213.18 \\\\\n",
       "\t  2       & A        & B        & A        & A        & A        & A        & A        & A        & B        & ⋯        & 0.438917 & 0.436585 & 0.60087  & 0.35127  & 0.43919  & 0.338312 & 0.366307 & 0.611431 & 0.304496 & 1283.60 \\\\\n",
       "\t  5       & A        & B        & A        & A        & B        & A        & A        & A        & B        & ⋯        & 0.289648 & 0.315545 & 0.27320  & 0.26076  & 0.32446  & 0.381398 & 0.373424 & 0.195709 & 0.774425 & 3005.09 \\\\\n",
       "\t 10       & B        & B        & A        & B        & A        & A        & A        & A        & B        & ⋯        & 0.440945 & 0.391128 & 0.31796  & 0.32128  & 0.44467  & 0.327915 & 0.321570 & 0.605077 & 0.602642 &  939.85 \\\\\n",
       "\t 11       & A        & B        & A        & B        & A        & A        & A        & A        & B        & ⋯        & 0.178193 & 0.247408 & 0.24564  & 0.22089  & 0.21230  & 0.204687 & 0.202213 & 0.246011 & 0.432606 & 2763.85 \\\\\n",
       "\t 13       & A        & B        & A        & A        & A        & A        & A        & A        & B        & ⋯        & 0.364464 & 0.401162 & 0.26847  & 0.46226  & 0.50556  & 0.366788 & 0.359249 & 0.345247 & 0.726792 & 5142.87 \\\\\n",
       "\\end{tabular}\n"
      ],
      "text/markdown": [
       "\n",
       "id | cat1 | cat2 | cat3 | cat4 | cat5 | cat6 | cat7 | cat8 | cat9 | ⋯ | cont6 | cont7 | cont8 | cont9 | cont10 | cont11 | cont12 | cont13 | cont14 | loss | \n",
       "|---|---|---|---|---|---|\n",
       "|  1       | A        | B        | A        | B        | A        | A        | A        | A        | B        | ⋯        | 0.718367 | 0.335060 | 0.30260  | 0.67135  | 0.83510  | 0.569745 | 0.594646 | 0.822493 | 0.714843 | 2213.18  | \n",
       "|  2       | A        | B        | A        | A        | A        | A        | A        | A        | B        | ⋯        | 0.438917 | 0.436585 | 0.60087  | 0.35127  | 0.43919  | 0.338312 | 0.366307 | 0.611431 | 0.304496 | 1283.60  | \n",
       "|  5       | A        | B        | A        | A        | B        | A        | A        | A        | B        | ⋯        | 0.289648 | 0.315545 | 0.27320  | 0.26076  | 0.32446  | 0.381398 | 0.373424 | 0.195709 | 0.774425 | 3005.09  | \n",
       "| 10       | B        | B        | A        | B        | A        | A        | A        | A        | B        | ⋯        | 0.440945 | 0.391128 | 0.31796  | 0.32128  | 0.44467  | 0.327915 | 0.321570 | 0.605077 | 0.602642 |  939.85  | \n",
       "| 11       | A        | B        | A        | B        | A        | A        | A        | A        | B        | ⋯        | 0.178193 | 0.247408 | 0.24564  | 0.22089  | 0.21230  | 0.204687 | 0.202213 | 0.246011 | 0.432606 | 2763.85  | \n",
       "| 13       | A        | B        | A        | A        | A        | A        | A        | A        | B        | ⋯        | 0.364464 | 0.401162 | 0.26847  | 0.46226  | 0.50556  | 0.366788 | 0.359249 | 0.345247 | 0.726792 | 5142.87  | \n",
       "\n",
       "\n"
      ],
      "text/plain": [
       "  id cat1 cat2 cat3 cat4 cat5 cat6 cat7 cat8 cat9 ⋯ cont6    cont7    cont8  \n",
       "1  1 A    B    A    B    A    A    A    A    B    ⋯ 0.718367 0.335060 0.30260\n",
       "2  2 A    B    A    A    A    A    A    A    B    ⋯ 0.438917 0.436585 0.60087\n",
       "3  5 A    B    A    A    B    A    A    A    B    ⋯ 0.289648 0.315545 0.27320\n",
       "4 10 B    B    A    B    A    A    A    A    B    ⋯ 0.440945 0.391128 0.31796\n",
       "5 11 A    B    A    B    A    A    A    A    B    ⋯ 0.178193 0.247408 0.24564\n",
       "6 13 A    B    A    A    A    A    A    A    B    ⋯ 0.364464 0.401162 0.26847\n",
       "  cont9   cont10  cont11   cont12   cont13   cont14   loss   \n",
       "1 0.67135 0.83510 0.569745 0.594646 0.822493 0.714843 2213.18\n",
       "2 0.35127 0.43919 0.338312 0.366307 0.611431 0.304496 1283.60\n",
       "3 0.26076 0.32446 0.381398 0.373424 0.195709 0.774425 3005.09\n",
       "4 0.32128 0.44467 0.327915 0.321570 0.605077 0.602642  939.85\n",
       "5 0.22089 0.21230 0.204687 0.202213 0.246011 0.432606 2763.85\n",
       "6 0.46226 0.50556 0.366788 0.359249 0.345247 0.726792 5142.87"
      ]
     },
     "metadata": {},
     "output_type": "display_data"
    }
   ],
   "source": [
    "head(train)"
   ]
  },
  {
   "cell_type": "markdown",
   "metadata": {},
   "source": [
    "## Questions\n",
    "1. how many observations (rows)?\n",
    "2. how many variables (features/cols)?\n",
    "3. are there missing values?\n",
    "4. what type of varialbes do you have?\n",
    "5. what is the target variable?\n",
    "6. how looks like the distribution a target variable?\n",
    "7. what about high-cardinality?"
   ]
  },
  {
   "cell_type": "markdown",
   "metadata": {},
   "source": [
    "### Let's visualize a bit"
   ]
  },
  {
   "cell_type": "code",
   "execution_count": 6,
   "metadata": {},
   "outputs": [
    {
     "data": {},
     "metadata": {},
     "output_type": "display_data"
    },
    {
     "data": {
      "image/png": "[encoded data removed]",
      "text/plain": [
       "plot without title"
      ]
     },
     "metadata": {},
     "output_type": "display_data"
    }
   ],
   "source": [
    "options(repr.plot.width=8, repr.plot.height=3)\n",
    "ggplot(train, aes(x = loss)) + geom_histogram(bins = 100, fill = \"blue\") + theme_bw()"
   ]
  },
  {
   "cell_type": "markdown",
   "metadata": {},
   "source": [
    "### Any thoughts?"
   ]
  },
  {
   "cell_type": "code",
   "execution_count": null,
   "metadata": {
    "collapsed": true
   },
   "outputs": [],
   "source": []
  },
  {
   "cell_type": "markdown",
   "metadata": {},
   "source": [
    "## Prepare to modeling"
   ]
  },
  {
   "cell_type": "code",
   "execution_count": 7,
   "metadata": {},
   "outputs": [
    {
     "data": {},
     "metadata": {},
     "output_type": "display_data"
    }
   ],
   "source": [
    "y_train = train$loss\n",
    "train[, c(\"id\", \"loss\") := NULL]"
   ]
  },
  {
   "cell_type": "markdown",
   "metadata": {},
   "source": [
    "XGBoost works only with numerical calues... any other should be converated to numerical."
   ]
  },
  {
   "cell_type": "markdown",
   "metadata": {},
   "source": [
    "### Categorical into numerical"
   ]
  },
  {
   "cell_type": "code",
   "execution_count": 8,
   "metadata": {
    "collapsed": true
   },
   "outputs": [],
   "source": [
    "df = train\n",
    "features = colnames(df)\n",
    "for (f in features) {\n",
    "  if (class(df[[f]])==\"character\") {\n",
    "    levels <- sort(unique(df[[f]]))\n",
    "    df[[f]] <- as.integer(factor(df[[f]], levels=levels))\n",
    "  }\n",
    "}"
   ]
  },
  {
   "cell_type": "markdown",
   "metadata": {},
   "source": [
    "## one hot encoding\n",
    "can be slow..."
   ]
  },
  {
   "cell_type": "code",
   "execution_count": 9,
   "metadata": {
    "collapsed": true
   },
   "outputs": [],
   "source": [
    "oh.train = train\n",
    "\n",
    "for (f in names(train)[names(train) %like% \"^cat\"]) {\n",
    "    dmy <- dummyVars(sprintf(\" ~ %s\", f), data = train)\n",
    "    newDum <- data.table(predict(dmy, newdata = train))\n",
    "    \n",
    "    oh.train = cbind(oh.train, newDum)\n",
    "}"
   ]
  },
  {
   "cell_type": "markdown",
   "metadata": {},
   "source": [
    "## train model"
   ]
  },
  {
   "cell_type": "code",
   "execution_count": 10,
   "metadata": {
    "collapsed": true
   },
   "outputs": [],
   "source": [
    "set.seed(2017)\n",
    "\n",
    "dtrain = xgb.DMatrix(as.matrix(df), label=y_train)\n",
    "\n",
    "xgb_params = list(\n",
    "    objective='reg:linear', \n",
    "    eval_metric = \"mae\",\n",
    "    max_depth = 10\n",
    ")\n",
    "model = xgb.train(xgb_params, dtrain, nrounds=30, maximize = F)"
   ]
  },
  {
   "cell_type": "markdown",
   "metadata": {},
   "source": [
    "## predict model"
   ]
  },
  {
   "cell_type": "code",
   "execution_count": 11,
   "metadata": {},
   "outputs": [
    {
     "data": {
      "text/html": [
       "1000.23766229714"
      ],
      "text/latex": [
       "1000.23766229714"
      ],
      "text/markdown": [
       "1000.23766229714"
      ],
      "text/plain": [
       "[1] 1000.238"
      ]
     },
     "metadata": {},
     "output_type": "display_data"
    }
   ],
   "source": [
    "y_pred = predict(model,dtrain)\n",
    "mae(y_train, y_pred)"
   ]
  },
  {
   "cell_type": "markdown",
   "metadata": {},
   "source": [
    "## Any issues?"
   ]
  },
  {
   "cell_type": "code",
   "execution_count": null,
   "metadata": {
    "collapsed": true
   },
   "outputs": [],
   "source": []
  },
  {
   "cell_type": "code",
   "execution_count": null,
   "metadata": {
    "collapsed": true
   },
   "outputs": [],
   "source": []
  },
  {
   "cell_type": "markdown",
   "metadata": {},
   "source": [
    "### Tips\n",
    "- validation"
   ]
  },
  {
   "cell_type": "code",
   "execution_count": null,
   "metadata": {
    "collapsed": true
   },
   "outputs": [],
   "source": []
  },
  {
   "cell_type": "code",
   "execution_count": null,
   "metadata": {
    "collapsed": true
   },
   "outputs": [],
   "source": []
  },
  {
   "cell_type": "markdown",
   "metadata": {},
   "source": [
    "###  k-fold Cross Validation"
   ]
  },
  {
   "cell_type": "code",
   "execution_count": 12,
   "metadata": {},
   "outputs": [
    {
     "name": "stdout",
     "output_type": "stream",
     "text": [
      "[1]\ttrain-mae:2152.957113+2.281623\ttest-mae:2157.415365+5.944574 \n",
      "[2]\ttrain-mae:1636.751099+2.657723\ttest-mae:1654.780680+6.790026 \n",
      "[3]\ttrain-mae:1374.787923+4.061102\ttest-mae:1412.336996+5.278428 \n",
      "[4]\ttrain-mae:1246.118368+3.873905\ttest-mae:1303.169637+6.633263 \n",
      "[5]\ttrain-mae:1183.062175+4.489999\ttest-mae:1257.047689+5.867130 \n",
      "[6]\ttrain-mae:1149.142334+4.481677\ttest-mae:1239.291056+6.367507 \n",
      "[7]\ttrain-mae:1129.264445+3.455994\ttest-mae:1233.105225+5.175603 \n",
      "[8]\ttrain-mae:1112.900513+4.196062\ttest-mae:1230.322998+5.733712 \n",
      "[9]\ttrain-mae:1100.843710+4.859625\ttest-mae:1229.839071+4.838454 \n",
      "[10]\ttrain-mae:1091.784098+6.279170\ttest-mae:1229.102498+5.173990 \n",
      "[11]\ttrain-mae:1080.767537+6.693944\ttest-mae:1229.172852+4.650300 \n",
      "[12]\ttrain-mae:1071.430054+6.931214\ttest-mae:1227.766927+4.549364 \n",
      "[13]\ttrain-mae:1063.301717+5.744278\ttest-mae:1226.864828+4.254493 \n",
      "[14]\ttrain-mae:1052.167440+5.162500\ttest-mae:1225.626424+3.693644 \n",
      "[15]\ttrain-mae:1043.016113+5.596615\ttest-mae:1224.457194+3.725162 \n",
      "[16]\ttrain-mae:1034.915853+5.706660\ttest-mae:1223.672526+3.322856 \n",
      "[17]\ttrain-mae:1026.584880+5.906243\ttest-mae:1222.710531+3.202762 \n",
      "[18]\ttrain-mae:1017.572388+7.378542\ttest-mae:1222.512573+3.100067 \n",
      "[19]\ttrain-mae:1010.464823+6.283615\ttest-mae:1222.183512+2.892133 \n",
      "[20]\ttrain-mae:1003.866496+6.461508\ttest-mae:1221.854167+3.081440 \n",
      "[21]\ttrain-mae:997.409709+6.761632\ttest-mae:1221.338867+3.176383 \n",
      "[22]\ttrain-mae:990.921915+6.018119\ttest-mae:1221.043416+2.695291 \n",
      "[23]\ttrain-mae:984.716634+4.801536\ttest-mae:1221.133382+3.042839 \n",
      "[24]\ttrain-mae:979.142985+5.073522\ttest-mae:1221.105143+3.222386 \n",
      "[25]\ttrain-mae:974.433329+5.447227\ttest-mae:1221.254476+3.066696 \n",
      "[26]\ttrain-mae:967.796143+4.987554\ttest-mae:1221.182495+2.838072 \n",
      "[27]\ttrain-mae:962.696187+5.045019\ttest-mae:1221.251465+2.785555 \n",
      "[28]\ttrain-mae:956.028992+6.756081\ttest-mae:1221.377035+2.961367 \n",
      "[29]\ttrain-mae:950.617553+6.339715\ttest-mae:1221.656250+2.569734 \n",
      "[30]\ttrain-mae:947.140727+5.427793\ttest-mae:1221.949666+2.527284 \n"
     ]
    }
   ],
   "source": [
    "res = xgb.cv(\n",
    "    xgb_params, \n",
    "    dtrain, \n",
    "    prediction =T,\n",
    "    nrounds=30, \n",
    "    nfold=3,\n",
    "    verbose=1\n",
    ")"
   ]
  },
  {
   "cell_type": "markdown",
   "metadata": {},
   "source": [
    "## Any issues?"
   ]
  },
  {
   "cell_type": "code",
   "execution_count": null,
   "metadata": {
    "collapsed": true
   },
   "outputs": [],
   "source": []
  },
  {
   "cell_type": "markdown",
   "metadata": {},
   "source": [
    "### Tips\n",
    "- compare train-mae vs test-mae"
   ]
  },
  {
   "cell_type": "code",
   "execution_count": null,
   "metadata": {
    "collapsed": true
   },
   "outputs": [],
   "source": []
  },
  {
   "cell_type": "code",
   "execution_count": null,
   "metadata": {
    "collapsed": true
   },
   "outputs": [],
   "source": []
  },
  {
   "cell_type": "markdown",
   "metadata": {},
   "source": [
    "Let's decrise `max_depth` from 10 to 5"
   ]
  },
  {
   "cell_type": "code",
   "execution_count": 13,
   "metadata": {},
   "outputs": [
    {
     "name": "stdout",
     "output_type": "stream",
     "text": [
      "[1]\ttrain-mae:2158.215983+3.780003\ttest-mae:2158.639974+12.211875 \n",
      "[2]\ttrain-mae:1679.093547+3.132093\ttest-mae:1680.620117+10.530196 \n",
      "[3]\ttrain-mae:1455.197876+4.575172\ttest-mae:1459.535156+7.457458 \n",
      "[4]\ttrain-mae:1362.540975+5.386068\ttest-mae:1368.705444+6.960758 \n",
      "[5]\ttrain-mae:1322.655070+4.802611\ttest-mae:1330.361165+4.560403 \n",
      "[6]\ttrain-mae:1302.737996+5.336373\ttest-mae:1311.883748+3.271739 \n",
      "[7]\ttrain-mae:1295.298665+5.277894\ttest-mae:1306.068196+2.966862 \n",
      "[8]\ttrain-mae:1286.382324+3.841663\ttest-mae:1298.908895+4.681542 \n",
      "[9]\ttrain-mae:1279.228800+2.490701\ttest-mae:1292.964722+5.264319 \n",
      "[10]\ttrain-mae:1270.567952+4.286844\ttest-mae:1285.641398+4.489507 \n",
      "[11]\ttrain-mae:1263.781576+3.783077\ttest-mae:1280.389241+4.705804 \n",
      "[12]\ttrain-mae:1255.965251+4.375572\ttest-mae:1273.890788+3.223519 \n",
      "[13]\ttrain-mae:1248.881958+3.277119\ttest-mae:1267.195964+4.296500 \n",
      "[14]\ttrain-mae:1243.777913+3.918121\ttest-mae:1263.325521+4.117745 \n",
      "[15]\ttrain-mae:1237.758748+3.046710\ttest-mae:1258.207194+5.892727 \n",
      "[16]\ttrain-mae:1231.746786+3.197907\ttest-mae:1253.239624+5.343388 \n",
      "[17]\ttrain-mae:1226.014241+3.756801\ttest-mae:1248.480916+5.203847 \n",
      "[18]\ttrain-mae:1221.824626+4.200304\ttest-mae:1245.138306+4.917172 \n",
      "[19]\ttrain-mae:1217.599691+4.057898\ttest-mae:1241.848633+5.146328 \n",
      "[20]\ttrain-mae:1213.087443+4.422435\ttest-mae:1238.374837+5.010758 \n",
      "[21]\ttrain-mae:1209.264363+4.627315\ttest-mae:1235.126587+4.691247 \n",
      "[22]\ttrain-mae:1206.306478+4.340603\ttest-mae:1232.902832+5.237336 \n",
      "[23]\ttrain-mae:1203.352620+4.578970\ttest-mae:1230.978272+5.256354 \n",
      "[24]\ttrain-mae:1201.056437+4.571725\ttest-mae:1229.256429+5.365571 \n",
      "[25]\ttrain-mae:1198.815023+4.358266\ttest-mae:1227.595052+5.741192 \n",
      "[26]\ttrain-mae:1196.356933+4.169538\ttest-mae:1225.951905+5.763495 \n",
      "[27]\ttrain-mae:1193.338704+4.332751\ttest-mae:1223.587240+6.009355 \n",
      "[28]\ttrain-mae:1191.633993+4.398734\ttest-mae:1222.691040+5.941306 \n",
      "[29]\ttrain-mae:1189.435221+4.247579\ttest-mae:1221.064575+5.927214 \n",
      "[30]\ttrain-mae:1187.361287+4.330201\ttest-mae:1219.792928+5.833116 \n"
     ]
    }
   ],
   "source": [
    "xgb_params = list(\n",
    "    objective='reg:linear', \n",
    "    eval_metric = \"mae\",\n",
    "    max_depth = 5\n",
    ")\n",
    "\n",
    "res = xgb.cv(\n",
    "    xgb_params, \n",
    "    dtrain, \n",
    "    prediction =T,\n",
    "    nrounds=30, \n",
    "    nfold=3,\n",
    "    verbose=1\n",
    ")"
   ]
  },
  {
   "cell_type": "code",
   "execution_count": null,
   "metadata": {
    "collapsed": true
   },
   "outputs": [],
   "source": []
  },
  {
   "cell_type": "markdown",
   "metadata": {},
   "source": [
    "### Play around with:\n",
    "- eta\n",
    "- subsample (0..1)\n",
    "- colsample_bytree (0..1)"
   ]
  },
  {
   "cell_type": "code",
   "execution_count": null,
   "metadata": {
    "collapsed": true
   },
   "outputs": [],
   "source": []
  },
  {
   "cell_type": "markdown",
   "metadata": {},
   "source": [
    "## Play around with target variable"
   ]
  },
  {
   "cell_type": "code",
   "execution_count": 14,
   "metadata": {
    "collapsed": true
   },
   "outputs": [],
   "source": [
    "#tips: check ggplot + scale_y_log10()"
   ]
  },
  {
   "cell_type": "markdown",
   "metadata": {},
   "source": [
    "## Links\n",
    "* [xgboost docs](http://xgboost.readthedocs.io/en/latest/R-package/xgboostPresentation.html)\n",
    "* [tutorial #1](https://www.analyticsvidhya.com/blog/2016/01/xgboost-algorithm-easy-steps/) \n",
    "* [tutorial #2](https://www.hackerearth.com/practice/machine-learning/machine-learning-algorithms/beginners-tutorial-on-xgboost-parameter-tuning-r/tutorial/)"
   ]
  }
 ],
 "metadata": {
  "kernelspec": {
   "display_name": "R",
   "language": "R",
   "name": "ir"
  },
  "language_info": {
   "codemirror_mode": "r",
   "file_extension": ".r",
   "mimetype": "text/x-r-source",
   "name": "R",
   "pygments_lexer": "r",
   "version": "3.4.1"
  }
 },
 "nbformat": 4,
 "nbformat_minor": 2
}
